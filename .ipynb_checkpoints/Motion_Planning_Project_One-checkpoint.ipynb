{
 "cells": [
  {
   "cell_type": "code",
   "execution_count": 10,
   "metadata": {},
   "outputs": [],
   "source": [
    "import numpy as np\n",
    "from utils import *\n",
    "from collections import Set"
   ]
  },
  {
   "cell_type": "markdown",
   "metadata": {},
   "source": [
    "BREADTH FIRST SEARCH ALGORITHM\n",
    "\n",
    "function BREADTH-FIRST-SEARCH(InitialState, goalTest)\n",
    "\n",
    "    return SUCCESS or FAILURE\n",
    "    frontier = Queue.new(InitialState)\n",
    "    explored = set.new()\n",
    "    \n",
    "    while not frontier.isEmpty():\n",
    "        state = frontier.dequeue()\n",
    "        explored.add(state)\n",
    "        \n",
    "        if goalTest(state):\n",
    "            return SUCCESS(state):\n",
    "        for neighbor in state.neighbors():\n",
    "            if neighbor not in frontier or explored\n",
    "                frontier.enqueue(neighbor)\n",
    "    return FAILURE"
   ]
  },
  {
   "cell_type": "code",
   "execution_count": 11,
   "metadata": {},
   "outputs": [
    {
     "data": {
      "text/plain": [
       "array([[0, 1, 2],\n",
       "       [3, 4, 5],\n",
       "       [6, 7, 8]])"
      ]
     },
     "execution_count": 11,
     "metadata": {},
     "output_type": "execute_result"
    }
   ],
   "source": [
    "# Defining the goal state that the solver wants to achieve\n",
    "goal_state = np.array([0,1,2,3,4,5,6,7,8]).reshape(3,3)\n",
    "goal_state"
   ]
  },
  {
   "cell_type": "code",
   "execution_count": 12,
   "metadata": {},
   "outputs": [
    {
     "data": {
      "text/plain": [
       "array([[3, 6, 2],\n",
       "       [5, 1, 4],\n",
       "       [0, 8, 7]])"
      ]
     },
     "execution_count": 12,
     "metadata": {},
     "output_type": "execute_result"
    }
   ],
   "source": [
    "# Hardcore the Initial State for prototyping purpose\n",
    "initial_state = np.array([3,6,2,5,1,4,0,8,7]).reshape(3,3)\n",
    "initial_state"
   ]
  },
  {
   "cell_type": "code",
   "execution_count": null,
   "metadata": {},
   "outputs": [],
   "source": [
    "class Node():\n",
    "    \n",
    "    \" Initialize method for the Node class\"\n",
    "    \n",
    "    def __init__(self, nodeState, parentNode, move, actions):\n",
    "        \n",
    "        self.nodeState = nodeState\n",
    "        self.parentNode = parentNode\n",
    "        self.cost = 0\n",
    "        self.move = move\n",
    "        self.actions = actions\n",
    "    \n",
    "    def ActionMoveLeft(self, nodeState):\n",
    "        pass\n",
    "    def ActionMoveRight(self, nodeState):\n",
    "        pass\n",
    "    def ActionMoveUp(self, nodeState):\n",
    "        pass\n",
    "    def ActionMoveDown(Self,nodeState);"
   ]
  }
 ],
 "metadata": {
  "kernelspec": {
   "display_name": "Python 3",
   "language": "python",
   "name": "python3"
  },
  "language_info": {
   "codemirror_mode": {
    "name": "ipython",
    "version": 3
   },
   "file_extension": ".py",
   "mimetype": "text/x-python",
   "name": "python",
   "nbconvert_exporter": "python",
   "pygments_lexer": "ipython3",
   "version": "3.6.10"
  }
 },
 "nbformat": 4,
 "nbformat_minor": 4
}
