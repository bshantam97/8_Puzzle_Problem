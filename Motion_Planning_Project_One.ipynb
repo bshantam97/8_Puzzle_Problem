{
 "cells": [
  {
   "cell_type": "code",
   "execution_count": 48,
   "metadata": {},
   "outputs": [],
   "source": [
    "import numpy as np\n",
    "from utils import *"
   ]
  },
  {
   "cell_type": "markdown",
   "metadata": {},
   "source": [
    "BREADTH FIRST SEARCH ALGORITHM\n",
    "\n",
    "function BREADTH-FIRST-SEARCH(InitialState, goalTest)\n",
    "\n",
    "    return SUCCESS or FAILURE\n",
    "    frontier = Queue.new(InitialState)\n",
    "    explored = set.new()\n",
    "    \n",
    "    while not frontier.isEmpty():\n",
    "        state = frontier.dequeue()\n",
    "        explored.add(state)\n",
    "        \n",
    "        if goalTest(state):\n",
    "            return SUCCESS(state):\n",
    "        for neighbor in state.neighbors():\n",
    "            if neighbor not in frontier or explored\n",
    "                frontier.enqueue(neighbor)\n",
    "    return FAILURE"
   ]
  },
  {
   "cell_type": "code",
   "execution_count": 49,
   "metadata": {},
   "outputs": [
    {
     "data": {
      "text/plain": [
       "array([[0, 1, 2],\n",
       "       [3, 4, 5],\n",
       "       [6, 7, 8]])"
      ]
     },
     "execution_count": 49,
     "metadata": {},
     "output_type": "execute_result"
    }
   ],
   "source": [
    "# Defining the goal state that the solver wants to achieve\n",
    "goal_state = np.array([0,1,2,3,4,5,6,7,8]).reshape(3,3)\n",
    "goal_state"
   ]
  },
  {
   "cell_type": "code",
   "execution_count": 54,
   "metadata": {},
   "outputs": [
    {
     "data": {
      "text/plain": [
       "array([[3, 6, 2],\n",
       "       [5, 1, 4],\n",
       "       [0, 8, 7]])"
      ]
     },
     "execution_count": 54,
     "metadata": {},
     "output_type": "execute_result"
    }
   ],
   "source": [
    "# Hardcore the Initial State for prototyping purpose\n",
    "initial_state = np.array([3,6,2,5,1,4,0,8,7]).reshape(3,3)\n",
    "initial_state"
   ]
  },
  {
   "cell_type": "code",
   "execution_count": 74,
   "metadata": {},
   "outputs": [
    {
     "ename": "SyntaxError",
     "evalue": "invalid syntax (<ipython-input-74-05a578333751>, line 122)",
     "output_type": "error",
     "traceback": [
      "\u001b[1;36m  File \u001b[1;32m\"<ipython-input-74-05a578333751>\"\u001b[1;36m, line \u001b[1;32m122\u001b[0m\n\u001b[1;33m    if neighbor not in explored and neighbor not frontier:\u001b[0m\n\u001b[1;37m                                                        ^\u001b[0m\n\u001b[1;31mSyntaxError\u001b[0m\u001b[1;31m:\u001b[0m invalid syntax\n"
     ]
    }
   ],
   "source": [
    "\" Defining the Node class\"\n",
    "class Node():\n",
    "    \n",
    "    \" Initialize method for the Node class\"\n",
    "    def __init__(self, nodeState, parentNode, actions):\n",
    "        \n",
    "        self.nodeState = nodeState # State of our current node\n",
    "        self.parentNode = parentNode # State of the previous node(parent node)\n",
    "        self.cost = 0\n",
    "        self.actions = actions # Move Up, Down, Left or right\n",
    "        \n",
    "        \"Defining the objects to move the 0 tile of the children node, left, right, up or down \"\n",
    "        self.up = None\n",
    "        self.down = None\n",
    "        self.left = None\n",
    "        self.right = None\n",
    "    \n",
    "    def ActionMoveLeft(self):\n",
    "        empty_tile = [node[0] for node in np.where(self.nodeState == 0)]\n",
    "        if empty_tile[1] == 0:\n",
    "            return False\n",
    "        else:\n",
    "            \"Finding the position of the left tile relative to the current tile\"\n",
    "            left_tile = self.nodeState[empty_tile[0],empty_tile[1]-1]\n",
    "            \n",
    "            \"Create a copy of the parent node\"\n",
    "            new_node_state = self.nodeState.copy() \n",
    "            \n",
    "            \"Swap the left value with the empty tile\"\n",
    "            new_node_state[empty_tile[0],empty_tile[1]] = left_tile\n",
    "            new_node_state[empty_tile[0],empty_tile[1]-1] = 0\n",
    "            return new_node_state\n",
    "        \n",
    "    def ActionMoveRight(self):\n",
    "        empty_tile = [node[0] for node in np.where(self.nodeState == 0)]\n",
    "        if empty_tile[1] == 2:\n",
    "            return False\n",
    "        else:\n",
    "            \"Finding the position of the right tile relative to the current tile\"\n",
    "            right_tile = self.nodeState[empty_tile[0],empty_tile[1]+1]\n",
    "            \n",
    "            \"Creating a copy of the parent Node\"\n",
    "            new_node_state = self.nodeState.copy()\n",
    "            \n",
    "            \"Swap the right tile with the empty tile\"\n",
    "            new_node_state[empty_tile[0],empty_tile[1]] = right_tile\n",
    "            new_node_state[empty_tile[0],empty_tile[1]+1] = 0\n",
    "            return new_node_state\n",
    "        \n",
    "    def ActionMoveUp(self):\n",
    "        empty_tile = [node[0] for node in np.where(self.nodeState == 0)]\n",
    "        if empty_tile[0] == 0:\n",
    "            return False\n",
    "        else:\n",
    "            \"Finding the position of the Upper tile relative to the current tile\"\n",
    "            up_tile = self.nodeState[empty_tile[0]-1,empty_tile[1]]\n",
    "            \n",
    "            \"Creating a copy of the parent Node\"\n",
    "            new_node_state = self.nodeState.copy()\n",
    "            \n",
    "            \"Swap the up tile with the empty tile\"\n",
    "            new_node_state[empty_tile[0],empty_tile[1]] = up_tile\n",
    "            new_node_state[empty_tile[0]-1,empty_tile[1]] = 0\n",
    "            return new_node_state\n",
    "        \n",
    "    def ActionMoveDown(self):\n",
    "        empty_tile = [node[0] for node in np.where(self.nodeState == 0)]\n",
    "        if empty_tile[0] == 2:\n",
    "            return False\n",
    "        else:\n",
    "            \"Finding the position of the Down tile relative to the current tile\"\n",
    "            down_tile = self.nodeState[empty_tile[0]+1,empty_tile[1]]\n",
    "            \n",
    "            \"Creating a copy of the parent Node\"\n",
    "            new_node_state = self.nodeState.copy()\n",
    "            \n",
    "            \"Swap the down tile with the empty tile\"\n",
    "            new_node_state[empty_tile[0],empty_tile[1]] = down_tile\n",
    "            new_node_state[empty_tile[0]+1,empty_tile[1]] = 0\n",
    "            return new_node_state\n",
    "    \n",
    "    # Generate the Successor nodes from the current Node\n",
    "    def Successor_Nodes(node):\n",
    "        \n",
    "        neighbours = list()\n",
    "        \n",
    "        if node.ActionMoveUp():\n",
    "            ret_new_child= current_node.ActionMoveUp()\n",
    "            neighbours.append(Node(actions = \"up\", nodeState = ret_new_child, parentNode = node))\n",
    "        elif node.ActionMoveDown():\n",
    "            ret_new_child2 = current_node.ActionMoveUp()\n",
    "            neighbours.append(Node(actions = \"down\", nodeState = ret_new_child2, parentNode = node))\n",
    "        elif node.ActionMoveLeft():\n",
    "            ret_new_child3 = current_node.ActionMoveUp()\n",
    "            neighbours.append(Node(actions = \"left\", nodeState = ret_new_child3, parentNode = node))\n",
    "        elif node.ActionMoveRight():\n",
    "            ret_new_child4 = current_node.ActionMoveUp()\n",
    "            neighbours.append(Node(actions = \"right\", nodeState = ret_new_child4, parentNode = node))\n",
    "        \n",
    "        child_nodes = [child_node for child_node in neighbours if child_node.nodeState]\n",
    "        \n",
    "        return child_nodes\n",
    "        \n",
    "    def Breadth_First_Search(self,goal_State):\n",
    "        \n",
    "        \"A set that will store all the explored nodes\"\n",
    "        explored = set()\n",
    "        \n",
    "        #frontier is basically the node to be explored\n",
    "        frontier = Queue([Node(nodeState = initial_state, parentNode = None , actions = None)]) \n",
    "        \n",
    "        while not frontier.isEmpty():\n",
    "            current_node = frontier.dequeue()\n",
    "            explored.add(current_node)\n",
    "            \n",
    "            if current_node == goal_State:\n",
    "                return True\n",
    "            \n",
    "            neighbourhood = Successor_Nodes(current_node)\n",
    "            \n",
    "            for neighbor in neighbourhood:\n",
    "                if neighbor not in explored and neighbor not frontier:\n",
    "                    frontier.enqueue(neighbor)\n",
    "                    \n",
    "        return None"
   ]
  },
  {
   "cell_type": "code",
   "execution_count": null,
   "metadata": {},
   "outputs": [],
   "source": []
  }
 ],
 "metadata": {
  "kernelspec": {
   "display_name": "Python 3",
   "language": "python",
   "name": "python3"
  },
  "language_info": {
   "codemirror_mode": {
    "name": "ipython",
    "version": 3
   },
   "file_extension": ".py",
   "mimetype": "text/x-python",
   "name": "python",
   "nbconvert_exporter": "python",
   "pygments_lexer": "ipython3",
   "version": "3.6.10"
  }
 },
 "nbformat": 4,
 "nbformat_minor": 4
}
