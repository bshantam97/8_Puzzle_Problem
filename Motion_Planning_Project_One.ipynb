{
 "cells": [
  {
   "cell_type": "code",
   "execution_count": 5,
   "metadata": {},
   "outputs": [],
   "source": [
    "import numpy as np\n",
    "from utils import *"
   ]
  },
  {
   "cell_type": "markdown",
   "metadata": {},
   "source": [
    "BREADTH FIRST SEARCH ALGORITHM\n",
    "\n",
    "function BREADTH-FIRST-SEARCH(InitialState, goalTest)\n",
    "    return SUCCESS or FAILURE\n",
    "    frontier = Queue.new(InitialState)\n",
    "    explored = set.new()\n",
    "    \n",
    "    while not frontier.isEmpty():\n",
    "        state = frontier.dequeue()\n",
    "        explored.add(state)\n",
    "        \n",
    "        if goalTest(state):\n",
    "            return SUCCESS(state):\n",
    "        for neighbor in state.neighbors():\n",
    "            if neighbor not in frontier or explored\n",
    "                frontier.enqueue(neighbor)\n",
    "    return FAILURE"
   ]
  },
  {
   "cell_type": "code",
   "execution_count": null,
   "metadata": {},
   "outputs": [],
   "source": [
    "def "
   ]
  }
 ],
 "metadata": {
  "kernelspec": {
   "display_name": "Python 3",
   "language": "python",
   "name": "python3"
  },
  "language_info": {
   "codemirror_mode": {
    "name": "ipython",
    "version": 3
   },
   "file_extension": ".py",
   "mimetype": "text/x-python",
   "name": "python",
   "nbconvert_exporter": "python",
   "pygments_lexer": "ipython3",
   "version": "3.6.10"
  }
 },
 "nbformat": 4,
 "nbformat_minor": 4
}
